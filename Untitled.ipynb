{
 "cells": [
  {
   "cell_type": "code",
   "execution_count": 2,
   "metadata": {},
   "outputs": [],
   "source": [
    "import numpy as np\n",
    "import pandas as pd\n",
    "import random\n",
    "import statistics "
   ]
  },
  {
   "cell_type": "code",
   "execution_count": 221,
   "metadata": {},
   "outputs": [],
   "source": [
    "def diff_var(n1, n2, w1, w2, sigma1, sigma2):\n",
    "    if n1 == 1 or n2 == 1:\n",
    "        return 0\n",
    "    c1 = n1 * np.log(w1) - (n1/2) * np.log(2*np.pi*sigma1)\n",
    "    c2 = n2 * np.log(w2) - (n2/2) * np.log(2*np.pi*sigma2)\n",
    "    return -2 * (c1 + c2)"
   ]
  },
  {
   "cell_type": "code",
   "execution_count": 222,
   "metadata": {},
   "outputs": [],
   "source": [
    "def parameters(array):\n",
    "    n = len(array) # length of array\n",
    "    mean = np.mean(array)# mean\n",
    "    \n",
    "    # variance\n",
    "    if len(array) == 1:\n",
    "        var = 0\n",
    "    else:\n",
    "        var = np.var(array, ddof=1)\n",
    "    return n, mean, var"
   ]
  },
  {
   "cell_type": "code",
   "execution_count": 264,
   "metadata": {},
   "outputs": [],
   "source": [
    "def Fast_BIC(array):\n",
    "    n = len(array) # length of all elements\n",
    "    cluster1 = list()\n",
    "    cluster2 = list()\n",
    "    \n",
    "    cluster1.append(array[0])\n",
    "    cluster1.append(array[1])\n",
    "    \n",
    "    mu1 = np.mean(cluster1)# put first element in cluster1\n",
    "    cluster2 = array[2:]\n",
    "    mu2 = np.mean(cluster2)\n",
    "    \n",
    "    n1, mean1, var1 = parameters(cluster1)\n",
    "    n2, mean2, var2 = parameters(cluster2)\n",
    "    w1, w2 = n1/n, n2/n # proportion\n",
    "    var_combine = (var1*n1 + var2*n2) / n\n",
    "\n",
    "    BIC_diff_var = diff_var(n1, n2, w1, w2, var1, var2)\n",
    "    BIC_same_var = diff_var(n1, n2, w1, w2, var_combine, var_combine)\n",
    "    BIC_curr = min(BIC_diff_var, BIC_same_var)\n",
    "    minBIC = BIC_diff_var \n",
    "#     print(minBIC)\n",
    "#     print(\"diff, same\", BIC_diff_var, BIC_same_var)\n",
    "#     print(\"BIC_curr\", BIC_curr)\n",
    "    splitpoint = cluster1[-1]\n",
    "        \n",
    "    while len(cluster2) > 2:\n",
    "        # move one element from cluster2 to cluster1\n",
    "        cluster1.append(cluster2[0])\n",
    "        cluster2 = cluster2[1:]\n",
    "#         print(\"-----\")\n",
    "#         print(\"cluster1:\", cluster1)\n",
    "#         print(\"cluster2:\", cluster2)\n",
    "        \n",
    "        # parameters\n",
    "        n1, mean1, var1 = parameters(cluster1)\n",
    "        n2, mean2, var2 = parameters(cluster2)\n",
    "        w1, w2 = n1/n, n2/n\n",
    "        var_combine = (var1*n1 + var2*n2) / n\n",
    "\n",
    "        BIC_diff_var = diff_var(n1, n2, w1, w2, var1, var2)\n",
    "        BIC_same_var = diff_var(n1, n2, w1, w2, var_combine, var_combine)\n",
    "        BIC_curr = min(BIC_diff_var, BIC_same_var)\n",
    "#         print(\"diff, same\", BIC_diff_var, BIC_same_var)\n",
    "#         print(\"BIC_curr\", BIC_curr)\n",
    "        if BIC_curr < minBIC:\n",
    "            minBIC = BIC_curr\n",
    "            splitpoint = cluster1[-1]\n",
    "            \n",
    "    return splitpoint, minBIC"
   ]
  },
  {
   "cell_type": "code",
   "execution_count": 265,
   "metadata": {},
   "outputs": [
    {
     "name": "stdout",
     "output_type": "stream",
     "text": [
      "(10, 5360.7, 7756320.677777777)\n",
      "[1566, 2353, 2445, 3881, 4088, 6714, 7168, 8272, 8506, 8614]\n",
      "7168 169.18757330413496\n"
     ]
    }
   ],
   "source": [
    "test = list()\n",
    "for i in range(0,10):\n",
    "    n = random.randint(1,10000)\n",
    "    test.append(n)\n",
    "test.sort()\n",
    "# test = [1, 2,3, 4, 5, 6]\n",
    "print(parameters(test))\n",
    "print(test)\n",
    "\n",
    "\n",
    "splitpoint, minBIC = Fast_BIC(test)\n",
    "print(splitpoint, minBIC)"
   ]
  },
  {
   "cell_type": "code",
   "execution_count": null,
   "metadata": {},
   "outputs": [],
   "source": []
  }
 ],
 "metadata": {
  "kernelspec": {
   "name": "python3",
   "display_name": "Python 3.8.2 64-bit",
   "metadata": {
    "interpreter": {
     "hash": "31f2aee4e71d21fbe5cf8b01ff0e069b9275f58929596ceb00d14d90e3e16cd6"
    }
   }
  },
  "language_info": {
   "codemirror_mode": {
    "name": "ipython",
    "version": 3
   },
   "file_extension": ".py",
   "mimetype": "text/x-python",
   "name": "python",
   "nbconvert_exporter": "python",
   "pygments_lexer": "ipython3",
   "version": "3.8.2-final"
  }
 },
 "nbformat": 4,
 "nbformat_minor": 2
}