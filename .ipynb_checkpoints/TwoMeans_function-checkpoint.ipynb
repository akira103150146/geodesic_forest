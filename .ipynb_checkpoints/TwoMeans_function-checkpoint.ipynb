{
 "cells": [
  {
   "cell_type": "code",
   "execution_count": 1,
   "metadata": {},
   "outputs": [],
   "source": [
    "import numpy as np\n",
    "import pandas as pd\n",
    "import random\n",
    "import statistics "
   ]
  },
  {
   "cell_type": "code",
   "execution_count": 2,
   "metadata": {},
   "outputs": [],
   "source": [
    "def parameters(array):\n",
    "    n = len(array) # length of array\n",
    "    mean = np.mean(array)# mean\n",
    "    \n",
    "    # variance\n",
    "    if len(array) == 1:\n",
    "        var = 0\n",
    "    else:\n",
    "        var = np.var(array, ddof=1)\n",
    "    return n, mean, var"
   ]
  },
  {
   "cell_type": "code",
   "execution_count": 3,
   "metadata": {},
   "outputs": [],
   "source": [
    "def Two_means(array):\n",
    "    n = len(array) # length of all elements\n",
    "    cluster1 = list()\n",
    "    cluster2 = list()\n",
    "    \n",
    "    cluster1.append(array[0])\n",
    "    cluster1.append(array[1])\n",
    "    \n",
    "    mu1 = np.mean(cluster1)# put first element in cluster1\n",
    "    cluster2 = array[2:]\n",
    "    mu2 = np.mean(cluster2)\n",
    "    \n",
    "    n1, mean1, var1 = parameters(cluster1)\n",
    "    n2, mean2, var2 = parameters(cluster2)\n",
    "    var_two = (var1*n1 + var2*n2)\n",
    "    minvar = var_two\n",
    "    splitpoint = cluster1[-1]\n",
    "    \n",
    "    while len(cluster2) > 2:\n",
    "        # move one element from cluster2 to cluster1\n",
    "        cluster1.append(cluster2[0])\n",
    "        cluster2 = cluster2[1:]\n",
    "        \n",
    "        # parameters\n",
    "        n1, mean1, var1 = parameters(cluster1)\n",
    "        n2, mean2, var2 = parameters(cluster2)\n",
    "        var_two = (var1*n1 + var2*n2)\n",
    "\n",
    "        if var_two < minvar:\n",
    "            minvar = var_two\n",
    "            splitpoint = cluster1[-1]\n",
    "    \n",
    "    return splitpoint, minvar"
   ]
  },
  {
   "cell_type": "code",
   "execution_count": 11,
   "metadata": {},
   "outputs": [
    {
     "name": "stdout",
     "output_type": "stream",
     "text": [
      "(6, 3.5, 3.5)\n",
      "[1, 2, 3, 4, 5, 6]\n",
      "3 6.0\n"
     ]
    }
   ],
   "source": [
    "# test\n",
    "test = list()\n",
    "for i in range(0,10):\n",
    "    n = random.randint(1,10000)\n",
    "    test.append(n)\n",
    "test.sort()\n",
    "test = [1, 2, 3, 4, 5, 6]\n",
    "print(parameters(test))\n",
    "print(test)\n",
    "\n",
    "\n",
    "splitpoint, minvar = Two_means(test)\n",
    "print(splitpoint, minvar)"
   ]
  },
  {
   "cell_type": "code",
   "execution_count": null,
   "metadata": {},
   "outputs": [],
   "source": []
  }
 ],
 "metadata": {
  "kernelspec": {
   "display_name": "Python 3",
   "language": "python",
   "name": "python3"
  },
  "language_info": {
   "codemirror_mode": {
    "name": "ipython",
    "version": 3
   },
   "file_extension": ".py",
   "mimetype": "text/x-python",
   "name": "python",
   "nbconvert_exporter": "python",
   "pygments_lexer": "ipython3",
   "version": "3.7.4"
  }
 },
 "nbformat": 4,
 "nbformat_minor": 2
}
