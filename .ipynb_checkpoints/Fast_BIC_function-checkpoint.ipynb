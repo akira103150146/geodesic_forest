{
 "cells": [
  {
   "cell_type": "code",
   "execution_count": 2,
   "metadata": {},
   "outputs": [],
   "source": [
    "import numpy as np\n",
    "import pandas as pd\n",
    "import random\n",
    "import statistics "
   ]
  },
  {
   "cell_type": "code",
   "execution_count": 3,
   "metadata": {},
   "outputs": [],
   "source": [
    "def diff_var(n1, n2, w1, w2, sigma1, sigma2):\n",
    "    if n1 == 1 or n2 == 1:\n",
    "        return 0\n",
    "    c1 = n1 * np.log(w1) - (n1/2) * np.log(2*np.pi*sigma1)\n",
    "    c2 = n2 * np.log(w2) - (n2/2) * np.log(2*np.pi*sigma2)\n",
    "    return -2 * (c1 + c2)"
   ]
  },
  {
   "cell_type": "code",
   "execution_count": 4,
   "metadata": {},
   "outputs": [],
   "source": [
    "def parameters(array):\n",
    "    n = len(array) # length of array\n",
    "    mean = np.mean(array)# mean\n",
    "    \n",
    "    # variance\n",
    "    if len(array) == 1:\n",
    "        var = 0\n",
    "    else:\n",
    "        var = np.var(array, ddof=1)\n",
    "    return n, mean, var"
   ]
  },
  {
   "cell_type": "code",
   "execution_count": 46,
   "metadata": {},
   "outputs": [],
   "source": [
    "def Fast_BIC(array):\n",
    "    n = len(array) # length of all elements\n",
    "    cluster1 = list()\n",
    "    cluster2 = list()\n",
    "    \n",
    "    cluster1.append(array[0])\n",
    "    cluster1.append(array[1])\n",
    "    \n",
    "    mu1 = np.mean(cluster1)# put first element in cluster1\n",
    "    cluster2 = array[2:]\n",
    "    mu2 = np.mean(cluster2)\n",
    "    \n",
    "    n1, mean1, var1 = parameters(cluster1)\n",
    "    n2, mean2, var2 = parameters(cluster2)\n",
    "    w1, w2 = n1/n, n2/n # proportion\n",
    "    var_combine = (var1*n1 + var2*n2) / n\n",
    "\n",
    "    BIC_diff_var = diff_var(n1, n2, w1, w2, var1, var2)\n",
    "    BIC_same_var = diff_var(n1, n2, w1, w2, var_combine, var_combine)\n",
    "    BIC_curr = min(BIC_diff_var, BIC_same_var)\n",
    "    if BIC_curr = -np.Inf:\n",
    "        BIC_curr = np.Inf\n",
    "    minBIC = BIC_diff_var \n",
    "#     print(minBIC)\n",
    "#     print(\"diff, same\", BIC_diff_var, BIC_same_var)\n",
    "#     print(\"BIC_curr\", BIC_curr)\n",
    "    splitpoint = cluster1[-1]\n",
    "        \n",
    "    if var1 == 0 or 0.0:\n",
    "        var1 = np.Inf\n",
    "    if var2 == 0 or 0.0:\n",
    "        var2 = np.Inf     \n",
    "#     print(var1, var2)\n",
    "    \n",
    "    while len(cluster2) > 2:\n",
    "        # move one element from cluster2 to cluster1\n",
    "        cluster1.append(cluster2[0])\n",
    "        cluster2 = cluster2[1:]\n",
    "#         print(\"-----\")\n",
    "#         print(\"cluster1:\", cluster1)\n",
    "#         print(\"cluster2:\", cluster2)\n",
    "        \n",
    "        # parameters\n",
    "        n1, mean1, var1 = parameters(cluster1)\n",
    "        n2, mean2, var2 = parameters(cluster2)\n",
    "        w1, w2 = n1/n, n2/n\n",
    "        var_combine = (var1*n1 + var2*n2) / n\n",
    "        \n",
    "#         if var1 == 0 or 0.0:\n",
    "#             var1 = np.Inf\n",
    "#         if var2 == 0 or 0.0:\n",
    "#             var2 = np.Inf\n",
    "        \n",
    "#         print(var1, var2)\n",
    "#         print(len(cluster1))\n",
    "        \n",
    "        BIC_diff_var = diff_var(n1, n2, w1, w2, var1, var2)\n",
    "        BIC_same_var = diff_var(n1, n2, w1, w2, var_combine, var_combine)\n",
    "        BIC_curr = min(BIC_diff_var, BIC_same_var)\n",
    "#         print(\"diff, same\", BIC_diff_var, BIC_same_var)\n",
    "#         print(\"BIC_curr\", BIC_curr)\n",
    "        if BIC_curr < minBIC:\n",
    "            minBIC = BIC_curr\n",
    "            splitpoint = cluster1[-1]\n",
    "            \n",
    "    return splitpoint, minBIC"
   ]
  },
  {
   "cell_type": "code",
   "execution_count": 47,
   "metadata": {},
   "outputs": [
    {
     "name": "stdout",
     "output_type": "stream",
     "text": [
      "(7500, 4970.753066666667, 8255851.774460523)\n",
      "2.0 8251468.873976477\n",
      "5870 133186.03108153705\n"
     ]
    }
   ],
   "source": [
    "test = list()\n",
    "for i in range(0,7500):\n",
    "    n = random.randint(1,10000)\n",
    "    test.append(n)\n",
    "test.sort()\n",
    "# test = [6.344460239469825, 6.528874539484268, 6.594224283598198, 6.595413224615503, 6.595413224615503, 6.870591320488106, 7.103455185100097, 7.121907481744506, 7.3915446721219675, 7.534255153814655, 7.534255153814655, 7.754851216547469, 7.7952473885670654, 7.8644976896595065, 7.8644976896595065, 7.881161538514474, 8.04641644885589, 8.058671331717411, 8.179685349415116, 8.187454833307436, 8.409555703720832, 8.500556471118852, 8.500556471118852, 8.528094210286566, 8.554182484773982, 9.037265356438793, 9.037265356438793, 9.037265356438793, 9.113574113848204, 9.142379286749774, 9.356759531009647, 9.493790468095614, 9.503146769450025, 9.685947292724324, 9.707404495247866, 9.78078152085553, 9.807960544154493, 10.00185766566919, 10.037148774208404, 10.187107354512424, 10.439273061036172, 10.461078625445017, 10.613688707893985, 10.78350745117239, 11.127213566554564, 11.183687830656847, 11.340025595485322, 11.38352481241936, 11.820482055505503, 12.020518970597461, 12.033677739345645, 12.350137440767515, 12.601450887884125, 12.71786231991847, 12.870605030225638, 12.973103184392949, 12.99427334206753, 13.156939779506935, 13.171274628440695, 13.27860415032135, 13.27860415032135, 13.604890835468126, 13.679488443704763, 13.875864942884963, 14.031642978519105, 14.135455063581094, 14.174235393064137, 14.305927216123218, 14.403118612336536, 14.434465890715837, 14.638540835592428, 14.922298882174307, 15.026833191214036, 15.027687298410507, 15.1039377878743, 15.1039377878743, 15.133274311242268, 15.242854207367596, 15.417935004619357, 15.485613473763605, 15.504231450162203, 15.81937745690931, 15.832441412960705, 16.0754112153055, 16.151141743064333, 16.225791888659746, 16.285889054588843, 16.3702508221811, 16.40839842076287, 16.493675317905662, 16.517980570199942, 16.610201836766965, 16.67156400432519, 16.79377140323622, 16.856346699081854, 16.9339295958373, 16.966034180811757, 17.002407848124825, 17.02867705084926]\n",
    "print(parameters(test))\n",
    "# print(test)\n",
    "\n",
    "\n",
    "splitpoint, minBIC = Fast_BIC(test)\n",
    "print(splitpoint, minBIC)"
   ]
  },
  {
   "cell_type": "code",
   "execution_count": 48,
   "metadata": {},
   "outputs": [
    {
     "data": {
      "text/plain": [
       "[9979, 9980, 9980, 9981, 9984, 9984, 9987, 9992, 9997, 9998]"
      ]
     },
     "execution_count": 48,
     "metadata": {},
     "output_type": "execute_result"
    }
   ],
   "source": [
    "test[-10:]"
   ]
  },
  {
   "cell_type": "code",
   "execution_count": 49,
   "metadata": {},
   "outputs": [
    {
     "data": {
      "text/plain": [
       "[2, 4, 5, 5, 6, 9, 11, 11, 11, 11]"
      ]
     },
     "execution_count": 49,
     "metadata": {},
     "output_type": "execute_result"
    }
   ],
   "source": [
    "test[:10]"
   ]
  },
  {
   "cell_type": "code",
   "execution_count": null,
   "metadata": {},
   "outputs": [],
   "source": []
  }
 ],
 "metadata": {
  "kernelspec": {
   "display_name": "Python 3",
   "language": "python",
   "name": "python3"
  },
  "language_info": {
   "codemirror_mode": {
    "name": "ipython",
    "version": 3
   },
   "file_extension": ".py",
   "mimetype": "text/x-python",
   "name": "python",
   "nbconvert_exporter": "python",
   "pygments_lexer": "ipython3",
   "version": "3.7.4"
  }
 },
 "nbformat": 4,
 "nbformat_minor": 2
}
