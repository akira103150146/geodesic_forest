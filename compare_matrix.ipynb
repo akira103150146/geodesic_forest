{
 "cells": [
  {
   "cell_type": "code",
   "execution_count": 1,
   "metadata": {},
   "outputs": [],
   "source": [
    "import matplotlib.pyplot as plt\n",
    "import numpy as np\n",
    "import pandas as pd\n",
    "import random\n",
    "from mpl_toolkits.mplot3d import Axes3D"
   ]
  },
  {
   "cell_type": "code",
   "execution_count": 52,
   "metadata": {},
   "outputs": [],
   "source": [
    "# test matrix\n",
    "matrix = [[1, 0.06547, 0.15583, 0.8334, 0.854046963, 0.058266, 0.31349, 0.99, 0.79, 0.5041], \n",
    "          [0.1398, 1, 0.7931, 0.9561, 0.5076, 0.4932, 0.655, 0.1098, 0.1661, 0.675], \n",
    "          [0.4705, 0.0185, 1, 0.9608, 0.8972, 0.1861, 0.6964, 0.9091, 0.2127, 0.1034], \n",
    "          [0.6048, 0.7632, 0.3396, 1, 0.0203, 0.1961, 0.561, 0.3619, 0.3578, 0.4852],\n",
    "          [0.4273, 0.5506, 0.3233, 0.536, 1, 0.6731, 0.8419, 0.6619, 0.2069, 0.331],\n",
    "          [0.1137, 0.694, 0.7295, 0.5941, 0.7664, 1, 0.1526, 0.2828, 0.0998, 0.768],\n",
    "          [0.2283, 0.1223, 0.2959, 0.6526, 0.8227, 0.6242, 1, 0.6215, 0.6284, 0.6096],\n",
    "          [0.0076, 0.6096, 0.1864, 0.4304, 0.547, 0.7812, 0.0813, 1, 0.0863, 0.8519],\n",
    "          [0.0755, 0.7774, 0.5992, 0.1302, 0.4521, 0.596, 0.4736, 0.4533, 1, 0.508],\n",
    "          [0.19, 0.51, 0.72, 0.92, 0.89, 0.45, 0.2, 0.18, 0.66, 1]]"
   ]
  },
  {
   "cell_type": "code",
   "execution_count": 1,
   "metadata": {},
   "outputs": [],
   "source": [
    "# output: index matrix of top value\n",
    "def find_top_index(matrix, k):\n",
    "    k = -k\n",
    "    answer = list()\n",
    "    for row in matrix:\n",
    "        answer.append(sorted(range(len(row)), key=lambda i: row[i])[k:])\n",
    "    return answer"
   ]
  },
  {
   "cell_type": "code",
   "execution_count": 54,
   "metadata": {},
   "outputs": [
    {
     "name": "stdout",
     "output_type": "stream",
     "text": [
      "[[4, 7, 0], [2, 3, 1], [7, 3, 2], [0, 1, 3], [5, 6, 4], [4, 9, 5], [3, 4, 6], [5, 9, 7], [2, 1, 8], [4, 3, 9]]\n"
     ]
    }
   ],
   "source": [
    "print(find_top_index(matrix, 3))"
   ]
  },
  {
   "cell_type": "code",
   "execution_count": 55,
   "metadata": {},
   "outputs": [],
   "source": [
    "def compare_matrix(matrix_gf, matrix_knn, K):\n",
    "    count = 0\n",
    "    for row1, row2 in zip(matrix_gf, matrix_knn):\n",
    "        count += len(set(row1) & set(row2))\n",
    "    return count / (K*K)"
   ]
  },
  {
   "cell_type": "code",
   "execution_count": 57,
   "metadata": {},
   "outputs": [
    {
     "data": {
      "text/plain": [
       "0.6666666666666666"
      ]
     },
     "execution_count": 57,
     "metadata": {},
     "output_type": "execute_result"
    }
   ],
   "source": [
    "a = [[1, 0.6, 0.3], [0.3, 1, 0.2], [0.4, 0.7, 1]]\n",
    "b = [[1, 0.4, 0.6], [0.9, 1, 0.2], [0.2, 0.7, 1]]\n",
    "precision = compare_matrix(a, b, 3)\n",
    "precision"
   ]
  },
  {
   "cell_type": "code",
   "execution_count": null,
   "metadata": {},
   "outputs": [],
   "source": []
  }
 ],
 "metadata": {
  "kernelspec": {
   "display_name": "Python 3",
   "language": "python",
   "name": "python3"
  },
  "language_info": {
   "codemirror_mode": {
    "name": "ipython",
    "version": 3
   },
   "file_extension": ".py",
   "mimetype": "text/x-python",
   "name": "python",
   "nbconvert_exporter": "python",
   "pygments_lexer": "ipython3",
   "version": "3.7.4"
  }
 },
 "nbformat": 4,
 "nbformat_minor": 2
}
