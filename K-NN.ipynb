{
 "cells": [
  {
   "cell_type": "code",
   "execution_count": 1,
   "metadata": {},
   "outputs": [],
   "source": [
    "from sklearn.neighbors import NearestNeighbors\n",
    "import numpy as np\n",
    "import pandas as pd"
   ]
  },
  {
   "cell_type": "code",
   "execution_count": 24,
   "metadata": {},
   "outputs": [],
   "source": [
    "# Input synthetic data\n",
    "df = pd.read_csv(\"helix.csv\")"
   ]
  },
  {
   "cell_type": "code",
   "execution_count": 13,
   "metadata": {},
   "outputs": [],
   "source": [
    "df = df[[\"x\", \"y\", \"z\"]]"
   ]
  },
  {
   "cell_type": "code",
   "execution_count": 75,
   "metadata": {},
   "outputs": [],
   "source": [
    "# K-nearest neighbor\n",
    "K = 50\n",
    "nbrs = NearestNeighbors(n_neighbors=K, algorithm='ball_tree').fit(df)\n",
    "distances, indices = nbrs.kneighbors(df)"
   ]
  },
  {
   "cell_type": "code",
   "execution_count": 20,
   "metadata": {},
   "outputs": [],
   "source": [
    "# matrix of KNN of synthetic data\n",
    "ans = nbrs.kneighbors_graph(df).toarray()"
   ]
  },
  {
   "cell_type": "code",
   "execution_count": 55,
   "metadata": {},
   "outputs": [],
   "source": [
    "def KNN(filename, K):\n",
    "    df = pd.read_csv(filename, index_col=0)\n",
    "#     df = df[[\"x\", \"y\", \"z\"]]\n",
    "    \n",
    "    nbrs = NearestNeighbors(n_neighbors=K, algorithm='ball_tree').fit(df)\n",
    "    distances, indices = nbrs.kneighbors(df)\n",
    "    ans = nbrs.kneighbors_graph(df).toarray()\n",
    "    return ans, distances, indices"
   ]
  },
  {
   "cell_type": "code",
   "execution_count": null,
   "metadata": {},
   "outputs": [],
   "source": []
  }
 ],
 "metadata": {
  "kernelspec": {
   "display_name": "Python 3",
   "language": "python",
   "name": "python3"
  },
  "language_info": {
   "codemirror_mode": {
    "name": "ipython",
    "version": 3
   },
   "file_extension": ".py",
   "mimetype": "text/x-python",
   "name": "python",
   "nbconvert_exporter": "python",
   "pygments_lexer": "ipython3",
   "version": "3.7.4"
  }
 },
 "nbformat": 4,
 "nbformat_minor": 2
}
