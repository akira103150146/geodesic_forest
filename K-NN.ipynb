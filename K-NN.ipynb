{
 "cells": [
  {
   "cell_type": "code",
   "execution_count": 1,
   "metadata": {},
   "outputs": [],
   "source": [
    "from sklearn.neighbors import NearestNeighbors\n",
    "import numpy as np\n",
    "import pandas as pd"
   ]
  },
  {
   "cell_type": "code",
   "execution_count": 82,
   "metadata": {},
   "outputs": [],
   "source": [
    "# Input synthetic data\n",
    "df = pd.read_csv(\"linear.csv\")"
   ]
  },
  {
   "cell_type": "code",
   "execution_count": 83,
   "metadata": {},
   "outputs": [],
   "source": [
    "df = df[[\"x\", \"y\", \"z\"]]"
   ]
  },
  {
   "cell_type": "code",
   "execution_count": 84,
   "metadata": {},
   "outputs": [],
   "source": [
    "# K-nearest neighbor\n",
    "# k個點有”包括自己“\n",
    "K = 50\n",
    "nbrs = NearestNeighbors(n_neighbors=K, algorithm='ball_tree').fit(df)\n",
    "# distances: n*k matrix, 最近k個點離x點的距離\n",
    "# indeces: n*k matrix, 最近k個點的index\n",
    "distances, indices = nbrs.kneighbors(df)"
   ]
  },
  {
   "cell_type": "code",
   "execution_count": 85,
   "metadata": {},
   "outputs": [],
   "source": [
    "# matrix of KNN of synthetic data\n",
    "# n*n matrix, contains 1 or 0\n",
    "ans = nbrs.kneighbors_graph(df).toarray()"
   ]
  },
  {
   "cell_type": "code",
   "execution_count": 86,
   "metadata": {},
   "outputs": [],
   "source": [
    "def KNN(filename, K):\n",
    "    df = pd.read_csv(filename, index_col=0)\n",
    "#     df = df[[\"x\", \"y\", \"z\"]]\n",
    "    \n",
    "    nbrs = NearestNeighbors(n_neighbors=K, algorithm='ball_tree').fit(df)\n",
    "    distances, indices = nbrs.kneighbors(df)\n",
    "    ans = nbrs.kneighbors_graph(df).toarray()\n",
    "    return ans, distances, indices"
   ]
  },
  {
   "cell_type": "code",
   "execution_count": 88,
   "metadata": {},
   "outputs": [
    {
     "data": {
      "text/plain": [
       "array([  0, 269, 257, 620, 158, 511,  53, 305, 139, 619, 552, 500, 679,\n",
       "       506, 141, 546, 320, 185, 728, 490, 769, 912, 991,  99, 782, 729,\n",
       "       936, 355, 245, 211, 710, 738, 554, 348, 588, 398,  51, 888, 290,\n",
       "       783, 969, 144, 272, 480, 694, 489,  22, 194,  43, 976])"
      ]
     },
     "execution_count": 88,
     "metadata": {},
     "output_type": "execute_result"
    }
   ],
   "source": [
    "indices[0]"
   ]
  },
  {
   "cell_type": "code",
   "execution_count": 95,
   "metadata": {},
   "outputs": [
    {
     "data": {
      "text/plain": [
       "array([0.        , 0.01319968, 0.04957157, 0.05147909, 0.07970794,\n",
       "       0.23340805, 0.24471022, 0.34327984, 0.37234076, 0.7053879 ,\n",
       "       1.01273632, 1.0313561 , 1.26402685, 1.46497001, 1.63149733,\n",
       "       1.63363641, 1.63698959, 1.67617617, 1.67972302, 1.7656562 ,\n",
       "       1.80201187, 1.89635129, 1.98443476, 2.2008918 , 2.33404837,\n",
       "       2.36101681, 2.44669532, 2.46069861, 2.52332506, 2.5919756 ,\n",
       "       2.62822795, 3.1102839 , 3.30142578, 3.41533491, 3.48394594,\n",
       "       3.52083452, 3.72733603, 3.85154835, 4.06800441, 4.09340784,\n",
       "       4.3960612 , 4.43345815, 4.64740463, 4.65468663, 4.69484756,\n",
       "       4.72736223, 4.83336322, 4.83360588, 4.85477161, 4.91232907])"
      ]
     },
     "execution_count": 95,
     "metadata": {},
     "output_type": "execute_result"
    }
   ],
   "source": [
    "distances[0]"
   ]
  },
  {
   "cell_type": "code",
   "execution_count": null,
   "metadata": {},
   "outputs": [],
   "source": []
  }
 ],
 "metadata": {
  "kernelspec": {
   "display_name": "Python 3",
   "language": "python",
   "name": "python3"
  },
  "language_info": {
   "codemirror_mode": {
    "name": "ipython",
    "version": 3
   },
   "file_extension": ".py",
   "mimetype": "text/x-python",
   "name": "python",
   "nbconvert_exporter": "python",
   "pygments_lexer": "ipython3",
   "version": "3.7.4"
  }
 },
 "nbformat": 4,
 "nbformat_minor": 2
}